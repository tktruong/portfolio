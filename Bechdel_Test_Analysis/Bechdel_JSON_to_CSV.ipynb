{
 "cells": [
  {
   "cell_type": "markdown",
   "metadata": {},
   "source": [
    "# Working with Bechdel Test JSON"
   ]
  },
  {
   "cell_type": "code",
   "execution_count": 28,
   "metadata": {},
   "outputs": [
    {
     "data": {
      "text/html": [
       "<img src=\"https://upload.wikimedia.org/wikipedia/en/b/bf/Dykes_to_Watch_Out_For_%28Bechdel_test_origin%29.jpg\"/>"
      ],
      "text/plain": [
       "<IPython.core.display.Image object>"
      ]
     },
     "execution_count": 28,
     "metadata": {},
     "output_type": "execute_result"
    }
   ],
   "source": [
    "from IPython.display import Image\n",
    "Image(url='https://upload.wikimedia.org/wikipedia/en/b/bf/Dykes_to_Watch_Out_For_%28Bechdel_test_origin%29.jpg')"
   ]
  },
  {
   "cell_type": "markdown",
   "metadata": {},
   "source": [
    "We retrieved the Bechdel Test data as a JSON file via https://bechdeltest.com/api/v1/doc. This notebook shows the process of importing the JSON file, reorganizing the data, and exporting as a CSV file for ease of use in the analysis. "
   ]
  },
  {
   "cell_type": "markdown",
   "metadata": {},
   "source": [
    "The Bechdel Test rating is on a 0-3 scale. \n",
    "\n",
    "- 0: Failed\n",
    "- 1: There's at least two women with names in the movie\n",
    "- 2: There's at least two women with names in the movie and they talk to each other\n",
    "- 3: There's at least two women with names in the movie and they talk to each other about something other than a man"
   ]
  },
  {
   "cell_type": "code",
   "execution_count": 3,
   "metadata": {},
   "outputs": [],
   "source": [
    "import json\n",
    "import csv\n",
    "import pandas as pd\n",
    "\n",
    "bechdel_movies = open('../Data/bechdel_test_data/bechdel_test_all_movies.json', encoding='utf-8', mode='rt')\n",
    "bechdel_in = json.loads(bechdel_movies.read())\n",
    "bechdel_movies.close()\n",
    "\n",
    "\n",
    "# included the header in advance\n",
    "bechdel_csv = [['bechdel_id', 'imdb_id', 'rating', 'title', 'year']]\n",
    "bechdel_convert = []\n",
    "\n",
    "# with items(), they become tuples and we can use indexing to grab values in the next loop\n",
    "# need this convert step so you can sort within the list\n",
    "# iterating over the dict values doesn't retain order\n",
    "for movie in bechdel_in:\n",
    "    row_movie = []\n",
    "    for item in movie.items():\n",
    "        row_movie.append(item)\n",
    "    row_movie.sort()\n",
    "    bechdel_convert.append(row_movie)\n",
    "\n",
    "# adding tt to match the IMDB ID formatting for tconst    \n",
    "for movie in bechdel_convert:\n",
    "    row_movie = []\n",
    "    for item in movie:\n",
    "        if item[0] == 'imdbid':\n",
    "            row_movie.append('tt' + item[1])\n",
    "        else:\n",
    "            row_movie.append(item[1])\n",
    "    bechdel_csv.append(row_movie)\n",
    "\n",
    "#print(bechdel_csv[0:200])\n",
    "\n",
    "bechdel_write = open('bechdel.csv', encoding='utf-8', mode='wt', newline='')\n",
    "bechdel_out = csv.writer(bechdel_write)\n",
    "bechdel_out.writerows(bechdel_csv)\n",
    "\n",
    "bechdel_write.close()"
   ]
  },
  {
   "cell_type": "markdown",
   "metadata": {},
   "source": [
    "# Checking for Errors"
   ]
  },
  {
   "cell_type": "code",
   "execution_count": 11,
   "metadata": {},
   "outputs": [
    {
     "data": {
      "text/html": [
       "<div>\n",
       "<style scoped>\n",
       "    .dataframe tbody tr th:only-of-type {\n",
       "        vertical-align: middle;\n",
       "    }\n",
       "\n",
       "    .dataframe tbody tr th {\n",
       "        vertical-align: top;\n",
       "    }\n",
       "\n",
       "    .dataframe thead th {\n",
       "        text-align: right;\n",
       "    }\n",
       "</style>\n",
       "<table border=\"1\" class=\"dataframe\">\n",
       "  <thead>\n",
       "    <tr style=\"text-align: right;\">\n",
       "      <th></th>\n",
       "      <th>bechdel_id</th>\n",
       "      <th>imdb_id</th>\n",
       "      <th>rating</th>\n",
       "      <th>title</th>\n",
       "      <th>year</th>\n",
       "    </tr>\n",
       "  </thead>\n",
       "  <tbody>\n",
       "    <tr>\n",
       "      <th>0</th>\n",
       "      <td>8040</td>\n",
       "      <td>tt0392728</td>\n",
       "      <td>0</td>\n",
       "      <td>Roundhay Garden Scene</td>\n",
       "      <td>1888</td>\n",
       "    </tr>\n",
       "    <tr>\n",
       "      <th>1</th>\n",
       "      <td>5433</td>\n",
       "      <td>tt0000003</td>\n",
       "      <td>0</td>\n",
       "      <td>Pauvre Pierrot</td>\n",
       "      <td>1892</td>\n",
       "    </tr>\n",
       "    <tr>\n",
       "      <th>2</th>\n",
       "      <td>5444</td>\n",
       "      <td>tt0000014</td>\n",
       "      <td>0</td>\n",
       "      <td>Tables Turned on the Gardener</td>\n",
       "      <td>1895</td>\n",
       "    </tr>\n",
       "    <tr>\n",
       "      <th>3</th>\n",
       "      <td>6200</td>\n",
       "      <td>tt0132134</td>\n",
       "      <td>0</td>\n",
       "      <td>Execution of Mary, Queen of Scots, The</td>\n",
       "      <td>1895</td>\n",
       "    </tr>\n",
       "    <tr>\n",
       "      <th>4</th>\n",
       "      <td>4982</td>\n",
       "      <td>tt0000091</td>\n",
       "      <td>0</td>\n",
       "      <td>House of the Devil, The</td>\n",
       "      <td>1896</td>\n",
       "    </tr>\n",
       "  </tbody>\n",
       "</table>\n",
       "</div>"
      ],
      "text/plain": [
       "   bechdel_id    imdb_id  rating                                   title  year\n",
       "0        8040  tt0392728       0                   Roundhay Garden Scene  1888\n",
       "1        5433  tt0000003       0                          Pauvre Pierrot  1892\n",
       "2        5444  tt0000014       0           Tables Turned on the Gardener  1895\n",
       "3        6200  tt0132134       0  Execution of Mary, Queen of Scots, The  1895\n",
       "4        4982  tt0000091       0                 House of the Devil, The  1896"
      ]
     },
     "execution_count": 11,
     "metadata": {},
     "output_type": "execute_result"
    }
   ],
   "source": [
    "# put into pandas dataframe\n",
    "#bechdel_df = pd.DataFrame(bechdel_csv)\n",
    "bechdel_df = pd.read_csv(\"bechdel.csv\")\n",
    "\n",
    "# correct column names\n",
    "bechdel_df.columns = ['bechdel_id', 'imdb_id', 'rating', 'title', 'year']\n",
    "\n",
    "bechdel_df.head()"
   ]
  },
  {
   "cell_type": "code",
   "execution_count": 12,
   "metadata": {},
   "outputs": [
    {
     "data": {
      "text/plain": [
       "(7721, 5)"
      ]
     },
     "execution_count": 12,
     "metadata": {},
     "output_type": "execute_result"
    }
   ],
   "source": [
    "bechdel_df.shape"
   ]
  },
  {
   "cell_type": "markdown",
   "metadata": {},
   "source": [
    "There are 7721 rows from the Bechdel Test data. First, we'll see if there are any duplicates via imdb_id. By using groupby and count, we can see if there are multiple values."
   ]
  },
  {
   "cell_type": "code",
   "execution_count": 25,
   "metadata": {},
   "outputs": [
    {
     "data": {
      "text/plain": [
       "imdb_id\n",
       "tt0035279    2\n",
       "tt0086425    2\n",
       "tt0117056    2\n",
       "tt2043900    2\n",
       "tt2083355    2\n",
       "tt2457282    2\n",
       "Name: title, dtype: int64"
      ]
     },
     "execution_count": 25,
     "metadata": {},
     "output_type": "execute_result"
    }
   ],
   "source": [
    "temp_bechdel1 = bechdel_df.groupby('imdb_id')['title'].count()\n",
    "temp_bechdel1[temp_bechdel1 > 1]"
   ]
  },
  {
   "cell_type": "markdown",
   "metadata": {},
   "source": [
    "This uncovered 6 duplicates, which will have to be checked and removed. We did this in our data filtering and cleaning process in SQL with the IMDB title.principals table. Ultimately, we exported an unduplicated copy (bechdel_test_updated.csv) of the Bechdel Test data from this process and continued to work off that. \n",
    "\n",
    "Let's also check for duplicates in the bechdel_id to see if there's any errors there."
   ]
  },
  {
   "cell_type": "code",
   "execution_count": 26,
   "metadata": {},
   "outputs": [
    {
     "data": {
      "text/plain": [
       "Series([], Name: title, dtype: int64)"
      ]
     },
     "execution_count": 26,
     "metadata": {},
     "output_type": "execute_result"
    }
   ],
   "source": [
    "temp_bechdel2 = bechdel_df.groupby('bechdel_id')['title'].count()\n",
    "temp_bechdel2[temp_bechdel2 > 1]"
   ]
  },
  {
   "cell_type": "markdown",
   "metadata": {},
   "source": [
    "There are no duplicates in the bechdel_id column. We won't check for duplicates in the title column because many movies have the same name or they're remakes. "
   ]
  }
 ],
 "metadata": {
  "kernelspec": {
   "display_name": "Python 3",
   "language": "python",
   "name": "python3"
  },
  "language_info": {
   "codemirror_mode": {
    "name": "ipython",
    "version": 3
   },
   "file_extension": ".py",
   "mimetype": "text/x-python",
   "name": "python",
   "nbconvert_exporter": "python",
   "pygments_lexer": "ipython3",
   "version": "3.7.3"
  }
 },
 "nbformat": 4,
 "nbformat_minor": 2
}
