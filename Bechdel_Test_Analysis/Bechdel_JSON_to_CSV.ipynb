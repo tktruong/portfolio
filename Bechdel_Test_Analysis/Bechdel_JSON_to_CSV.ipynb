{
 "cells": [
  {
   "cell_type": "markdown",
   "metadata": {},
   "source": [
    "# Working with Bechdel Test JSON"
   ]
  },
  {
   "cell_type": "code",
   "execution_count": 28,
   "metadata": {},
   "outputs": [
    {
     "data": {
      "text/html": [
       "<img src=\"https://upload.wikimedia.org/wikipedia/en/b/bf/Dykes_to_Watch_Out_For_%28Bechdel_test_origin%29.jpg\"/>"
      ],
      "text/plain": [
       "<IPython.core.display.Image object>"
      ]
     },
     "execution_count": 28,
     "metadata": {},
     "output_type": "execute_result"
    }
   ],
   "source": [
    "from IPython.display import Image\n",
    "Image(url='https://upload.wikimedia.org/wikipedia/en/b/bf/Dykes_to_Watch_Out_For_%28Bechdel_test_origin%29.jpg')"
   ]
  },
  {
   "cell_type": "markdown",
   "metadata": {},
   "source": [
    "We retrieved the Bechdel Test data as a JSON file via https://bechdeltest.com/api/v1/doc. This notebook shows the process of importing the JSON file, reorganizing the data, and exporting as a CSV file for ease of use in the analysis. "
   ]
  },
  {
   "cell_type": "markdown",
   "metadata": {},
   "source": [
    "The Bechdel Test rating is on a 0-3 scale. \n",
    "\n",
    "- 0: Failed\n",
    "- 1: There's at least two women with names in the movie\n",
    "- 2: There's at least two women with names in the movie and they talk to each other\n",
    "- 3: There's at least two women with names in the movie and they talk to each other about something other than a man"
   ]
  },
  {
   "cell_type": "code",
   "execution_count": 3,
   "metadata": {},
   "outputs": [],
   "source": [
    "import json\n",
    "import csv\n",
    "\n",
    "bechdel_movies = open('../Data/bechdel_test_data/bechdel_test_all_movies.json', encoding='utf-8', mode='rt')\n",
    "bechdel_in = json.loads(bechdel_movies.read())\n",
    "bechdel_movies.close()\n",
    "\n",
    "\n",
    "# included the header in advance\n",
    "bechdel_csv = [['bechdel_id', 'imdb_id', 'rating', 'title', 'year']]\n",
    "bechdel_convert = []\n",
    "\n",
    "# with items(), they become tuples and we can use indexing to grab values in the next loop\n",
    "# need this convert step so you can sort within the list\n",
    "# iterating over the dict values doesn't retain order\n",
    "for movie in bechdel_in:\n",
    "    row_movie = []\n",
    "    for item in movie.items():\n",
    "        row_movie.append(item)\n",
    "    row_movie.sort()\n",
    "    bechdel_convert.append(row_movie)\n",
    "\n",
    "# adding tt to match the IMDB ID formatting for tconst    \n",
    "for movie in bechdel_convert:\n",
    "    row_movie = []\n",
    "    for item in movie:\n",
    "        if item[0] == 'imdbid':\n",
    "            row_movie.append('tt' + item[1])\n",
    "        else:\n",
    "            row_movie.append(item[1])\n",
    "    bechdel_csv.append(row_movie)\n",
    "\n",
    "#print(bechdel_csv[0:200])\n",
    "\n",
    "bechdel_write = open('bechdel.csv', encoding='utf-8', mode='wt', newline='')\n",
    "bechdel_out = csv.writer(bechdel_write)\n",
    "bechdel_out.writerows(bechdel_csv)\n",
    "\n",
    "bechdel_write.close()"
   ]
  },
  {
   "cell_type": "markdown",
   "metadata": {},
   "source": [
    "# Checking for Errors"
   ]
  },
  {
   "cell_type": "code",
   "execution_count": 22,
   "metadata": {},
   "outputs": [
    {
     "data": {
      "text/html": [
       "<div>\n",
       "<style scoped>\n",
       "    .dataframe tbody tr th:only-of-type {\n",
       "        vertical-align: middle;\n",
       "    }\n",
       "\n",
       "    .dataframe tbody tr th {\n",
       "        vertical-align: top;\n",
       "    }\n",
       "\n",
       "    .dataframe thead th {\n",
       "        text-align: right;\n",
       "    }\n",
       "</style>\n",
       "<table border=\"1\" class=\"dataframe\">\n",
       "  <thead>\n",
       "    <tr style=\"text-align: right;\">\n",
       "      <th></th>\n",
       "      <th>0</th>\n",
       "      <th>1</th>\n",
       "      <th>2</th>\n",
       "      <th>3</th>\n",
       "      <th>4</th>\n",
       "    </tr>\n",
       "  </thead>\n",
       "  <tbody>\n",
       "    <tr>\n",
       "      <th>0</th>\n",
       "      <td>bechdel_id</td>\n",
       "      <td>imdb_id</td>\n",
       "      <td>rating</td>\n",
       "      <td>title</td>\n",
       "      <td>year</td>\n",
       "    </tr>\n",
       "    <tr>\n",
       "      <th>1</th>\n",
       "      <td>8040</td>\n",
       "      <td>tt0392728</td>\n",
       "      <td>0</td>\n",
       "      <td>Roundhay Garden Scene</td>\n",
       "      <td>1888</td>\n",
       "    </tr>\n",
       "    <tr>\n",
       "      <th>2</th>\n",
       "      <td>5433</td>\n",
       "      <td>tt0000003</td>\n",
       "      <td>0</td>\n",
       "      <td>Pauvre Pierrot</td>\n",
       "      <td>1892</td>\n",
       "    </tr>\n",
       "    <tr>\n",
       "      <th>3</th>\n",
       "      <td>5444</td>\n",
       "      <td>tt0000014</td>\n",
       "      <td>0</td>\n",
       "      <td>Tables Turned on the Gardener</td>\n",
       "      <td>1895</td>\n",
       "    </tr>\n",
       "    <tr>\n",
       "      <th>4</th>\n",
       "      <td>6200</td>\n",
       "      <td>tt0132134</td>\n",
       "      <td>0</td>\n",
       "      <td>Execution of Mary, Queen of Scots, The</td>\n",
       "      <td>1895</td>\n",
       "    </tr>\n",
       "  </tbody>\n",
       "</table>\n",
       "</div>"
      ],
      "text/plain": [
       "            0          1       2                                       3     4\n",
       "0  bechdel_id    imdb_id  rating                                   title  year\n",
       "1        8040  tt0392728       0                   Roundhay Garden Scene  1888\n",
       "2        5433  tt0000003       0                          Pauvre Pierrot  1892\n",
       "3        5444  tt0000014       0           Tables Turned on the Gardener  1895\n",
       "4        6200  tt0132134       0  Execution of Mary, Queen of Scots, The  1895"
      ]
     },
     "execution_count": 22,
     "metadata": {},
     "output_type": "execute_result"
    }
   ],
   "source": [
    "import pandas as pd\n",
    "\n",
    "bechdel_df = pd.DataFrame(bechdel_csv)\n",
    "bechdel_df.head()"
   ]
  },
  {
   "cell_type": "code",
   "execution_count": 23,
   "metadata": {},
   "outputs": [
    {
     "data": {
      "text/html": [
       "<div>\n",
       "<style scoped>\n",
       "    .dataframe tbody tr th:only-of-type {\n",
       "        vertical-align: middle;\n",
       "    }\n",
       "\n",
       "    .dataframe tbody tr th {\n",
       "        vertical-align: top;\n",
       "    }\n",
       "\n",
       "    .dataframe thead th {\n",
       "        text-align: right;\n",
       "    }\n",
       "</style>\n",
       "<table border=\"1\" class=\"dataframe\">\n",
       "  <thead>\n",
       "    <tr style=\"text-align: right;\">\n",
       "      <th></th>\n",
       "      <th>bechdel_id</th>\n",
       "      <th>imdb_id</th>\n",
       "      <th>rating</th>\n",
       "      <th>title</th>\n",
       "      <th>year</th>\n",
       "    </tr>\n",
       "  </thead>\n",
       "  <tbody>\n",
       "    <tr>\n",
       "      <th>1</th>\n",
       "      <td>8040</td>\n",
       "      <td>tt0392728</td>\n",
       "      <td>0</td>\n",
       "      <td>Roundhay Garden Scene</td>\n",
       "      <td>1888</td>\n",
       "    </tr>\n",
       "    <tr>\n",
       "      <th>2</th>\n",
       "      <td>5433</td>\n",
       "      <td>tt0000003</td>\n",
       "      <td>0</td>\n",
       "      <td>Pauvre Pierrot</td>\n",
       "      <td>1892</td>\n",
       "    </tr>\n",
       "    <tr>\n",
       "      <th>3</th>\n",
       "      <td>5444</td>\n",
       "      <td>tt0000014</td>\n",
       "      <td>0</td>\n",
       "      <td>Tables Turned on the Gardener</td>\n",
       "      <td>1895</td>\n",
       "    </tr>\n",
       "    <tr>\n",
       "      <th>4</th>\n",
       "      <td>6200</td>\n",
       "      <td>tt0132134</td>\n",
       "      <td>0</td>\n",
       "      <td>Execution of Mary, Queen of Scots, The</td>\n",
       "      <td>1895</td>\n",
       "    </tr>\n",
       "    <tr>\n",
       "      <th>5</th>\n",
       "      <td>4982</td>\n",
       "      <td>tt0000091</td>\n",
       "      <td>0</td>\n",
       "      <td>House of the Devil, The</td>\n",
       "      <td>1896</td>\n",
       "    </tr>\n",
       "  </tbody>\n",
       "</table>\n",
       "</div>"
      ],
      "text/plain": [
       "0 bechdel_id    imdb_id rating                                   title  year\n",
       "1       8040  tt0392728      0                   Roundhay Garden Scene  1888\n",
       "2       5433  tt0000003      0                          Pauvre Pierrot  1892\n",
       "3       5444  tt0000014      0           Tables Turned on the Gardener  1895\n",
       "4       6200  tt0132134      0  Execution of Mary, Queen of Scots, The  1895\n",
       "5       4982  tt0000091      0                 House of the Devil, The  1896"
      ]
     },
     "execution_count": 23,
     "metadata": {},
     "output_type": "execute_result"
    }
   ],
   "source": [
    "bechdel_df.columns = bechdel_df.iloc[0]\n",
    "\n",
    "bechdel_df.drop(index=0, inplace=True)\n",
    "\n",
    "bechdel_df.head()"
   ]
  },
  {
   "cell_type": "code",
   "execution_count": 24,
   "metadata": {},
   "outputs": [
    {
     "data": {
      "text/plain": [
       "(7721, 5)"
      ]
     },
     "execution_count": 24,
     "metadata": {},
     "output_type": "execute_result"
    }
   ],
   "source": [
    "bechdel_df.shape"
   ]
  },
  {
   "cell_type": "markdown",
   "metadata": {},
   "source": [
    "First, we'll see if there are any duplicates via imdb_id. By using groupby and count, we can see if there are multiple values."
   ]
  },
  {
   "cell_type": "code",
   "execution_count": 25,
   "metadata": {},
   "outputs": [
    {
     "data": {
      "text/plain": [
       "imdb_id\n",
       "tt2043900    2\n",
       "tt2457282    2\n",
       "tt0086425    2\n",
       "tt0035279    2\n",
       "tt0117056    2\n",
       "tt2083355    2\n",
       "tt7875464    1\n",
       "tt0118015    1\n",
       "tt0117998    1\n",
       "tt0117991    1\n",
       "tt0117968    1\n",
       "tt0117979    1\n",
       "tt0117951    1\n",
       "tt0117887    1\n",
       "tt0117876    1\n",
       "tt0117802    1\n",
       "tt0117797    1\n",
       "tt0118105    1\n",
       "tt0118113    1\n",
       "tt0118111    1\n",
       "tt0117737    1\n",
       "tt0118414    1\n",
       "tt0118550    1\n",
       "tt0118570    1\n",
       "tt0118571    1\n",
       "tt0118583    1\n",
       "tt0118589    1\n",
       "tt0118604    1\n",
       "tt0118617    1\n",
       "tt0118636    1\n",
       "            ..\n",
       "tt1196141    1\n",
       "tt1185416    1\n",
       "tt1189340    1\n",
       "tt1185616    1\n",
       "tt1185836    1\n",
       "tt1186367    1\n",
       "tt1186369    1\n",
       "tt1186373    1\n",
       "tt1186830    1\n",
       "tt1187043    1\n",
       "tt1187044    1\n",
       "tt1187064    1\n",
       "tt1188113    1\n",
       "tt1188729    1\n",
       "tt1189073    1\n",
       "tt1190072    1\n",
       "tt1195478    1\n",
       "tt1190080    1\n",
       "tt1190536    1\n",
       "tt1190539    1\n",
       "tt1191111    1\n",
       "tt1192628    1\n",
       "tt1193138    1\n",
       "tt1194173    1\n",
       "tt1194238    1\n",
       "tt1194263    1\n",
       "tt1194417    1\n",
       "tt1194424    1\n",
       "tt1194577    1\n",
       "tt0000003    1\n",
       "Name: title, Length: 7715, dtype: int64"
      ]
     },
     "execution_count": 25,
     "metadata": {},
     "output_type": "execute_result"
    }
   ],
   "source": [
    "temp_bechdel1 = bechdel_df.groupby('imdb_id')['title'].count()\n",
    "temp_bechdel1.sort_values(ascending=False)"
   ]
  },
  {
   "cell_type": "markdown",
   "metadata": {},
   "source": [
    "This uncovered 6 duplicates, which will have to be checked and removed. We did this in our data filtering and cleaning process in SQL with the IMDB title.principals table. Ultimately, we exported an unduplicated copy (bechdel_test_updated.csv) of the Bechdel Test data from this process and continued to work off that. \n",
    "\n",
    "Let's also check for duplicates in the bechdel_id to see if there's any errors there."
   ]
  },
  {
   "cell_type": "code",
   "execution_count": 27,
   "metadata": {},
   "outputs": [
    {
     "data": {
      "text/plain": [
       "bechdel_id\n",
       "996     1\n",
       "34      1\n",
       "3428    1\n",
       "3429    1\n",
       "343     1\n",
       "3430    1\n",
       "3431    1\n",
       "3432    1\n",
       "3433    1\n",
       "3434    1\n",
       "3435    1\n",
       "3436    1\n",
       "3437    1\n",
       "3438    1\n",
       "3439    1\n",
       "344     1\n",
       "3440    1\n",
       "3441    1\n",
       "3442    1\n",
       "3443    1\n",
       "3444    1\n",
       "3445    1\n",
       "3446    1\n",
       "3447    1\n",
       "3448    1\n",
       "3449    1\n",
       "345     1\n",
       "3450    1\n",
       "3451    1\n",
       "3427    1\n",
       "       ..\n",
       "5920    1\n",
       "5895    1\n",
       "5907    1\n",
       "5896    1\n",
       "5897    1\n",
       "5898    1\n",
       "5899    1\n",
       "59      1\n",
       "590     1\n",
       "5900    1\n",
       "5901    1\n",
       "5902    1\n",
       "5903    1\n",
       "5904    1\n",
       "5906    1\n",
       "5908    1\n",
       "592     1\n",
       "5909    1\n",
       "591     1\n",
       "5910    1\n",
       "5911    1\n",
       "5912    1\n",
       "5913    1\n",
       "5914    1\n",
       "5915    1\n",
       "5916    1\n",
       "5917    1\n",
       "5918    1\n",
       "5919    1\n",
       "1       1\n",
       "Name: title, Length: 7721, dtype: int64"
      ]
     },
     "execution_count": 27,
     "metadata": {},
     "output_type": "execute_result"
    }
   ],
   "source": [
    "temp_bechdel2 = bechdel_df.groupby('bechdel_id')['title'].count()\n",
    "temp_bechdel2.sort_values(ascending=False)"
   ]
  },
  {
   "cell_type": "markdown",
   "metadata": {},
   "source": [
    "There are no duplicates in the bechdel_id column. We won't check for duplicates in the title column because many movies have the same name or they're remakes. "
   ]
  },
  {
   "cell_type": "code",
   "execution_count": null,
   "metadata": {},
   "outputs": [],
   "source": []
  }
 ],
 "metadata": {
  "kernelspec": {
   "display_name": "Python 3",
   "language": "python",
   "name": "python3"
  },
  "language_info": {
   "codemirror_mode": {
    "name": "ipython",
    "version": 3
   },
   "file_extension": ".py",
   "mimetype": "text/x-python",
   "name": "python",
   "nbconvert_exporter": "python",
   "pygments_lexer": "ipython3",
   "version": "3.6.4"
  }
 },
 "nbformat": 4,
 "nbformat_minor": 2
}
