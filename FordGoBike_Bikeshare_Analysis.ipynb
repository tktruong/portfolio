{
 "cells": [
  {
   "cell_type": "markdown",
   "metadata": {},
   "source": [
    "<img src=\"2000px-Ford_GoBike_logo.png\" alt=\"Drawing\" style=\"width: 400px;\"/>"
   ]
  },
  {
   "cell_type": "markdown",
   "metadata": {},
   "source": [
    "# Optimizing for Commuters and Increasing Ridership"
   ]
  },
  {
   "cell_type": "markdown",
   "metadata": {},
   "source": [
    "<img src=\"IMG_0066.jpg\" alt=\"Drawing\" style=\"width: 500px;\"/>"
   ]
  },
  {
   "cell_type": "markdown",
   "metadata": {},
   "source": [
    "Ford GoBike is the Bay Area's bikeshare system, which aims to be a fast, convenient way to get around--whether you're commuting, running errands, or just sightseeing. Currently, the Bay Area ranks as 5th in the world for worst traffic and its transportation systems struggle to meet the demands of a fast growing population. Ford GoBike is poised to help alleviate the frustration of traffic congestion and transportation delays that many local commuters face on a daily basis. \n",
    "\n",
    "In this analysis, we aim to utilize the pilot program data to learn what are popular commuter routes and what potential offers will increase ridership in the system. We will use data from Google BigQuery stored in three tables: bikeshare_trips, bikeshare_status, and bikeshare_stations."
   ]
  },
  {
   "cell_type": "markdown",
   "metadata": {},
   "source": [
    "## Database Schema\n",
    "### bikeshare_trips\n",
    "| Field name         | Type       | Description                                                                                                  |\n",
    "|--------------------|-----------|--------------------------------------------------------------------------------------------------------------|\n",
    "| trip_id            | INTEGER   | Numeric ID of bike trip                                                                                      |\n",
    "| duration_sec       | INTEGER   | Time of trip in seconds                                                                                      |\n",
    "| start_date         | TIMESTAMP | Start date of trip with date and time, in PST                                                                |\n",
    "| start_station_name | STRING    | Station name of start station                                                                                |\n",
    "| start_station_id   | INTEGER   | Numeric reference for start station                                                                          |\n",
    "| end_date           | TIMESTAMP | End date of trip with date and time, in PST                                                                  |\n",
    "| end_station_name   | STRING    | Station name for end station                                                                                 |\n",
    "| end_station_id     | INTEGER   | Numeric reference for end station                                                                            |\n",
    "| bike_number        | INTEGER   | ID of bike used                                                                                              |\n",
    "| zip_code           | STRING    | Home zip code of subscriber (customers can choose to manually enter zip at kiosk however data is unreliable) |\n",
    "| subscriber_type    | STRING    | Subscriber = annual or 30-day member; Customer = 24-hour or 3-day member                                     |\n",
    "\n",
    "### bikeshare_status\n",
    "| Field name      | Type      | Description               |   |\n",
    "|-----------------|-----------|---------------------------|---|\n",
    "| station_id      | INTEGER   | Station ID number         |   |\n",
    "| bikes_available | INTEGER   | Number of available bikes |   |\n",
    "| docks_available | INTEGER   | Number of available docks |   |\n",
    "| time            | TIMESTAMP | Date and time, PST        |   |\n",
    "\n",
    "### bikeshare_stations\n",
    "| Field name        | Type    | Description                                                                        |   |\n",
    "|-------------------|---------|------------------------------------------------------------------------------------|---|\n",
    "| station_id        | INTEGER | Station ID number                                                                  |   |\n",
    "| name              | STRING  | Name of station                                                                    |   |\n",
    "| latitude          | FLOAT   | Latitude                                                                           |   |\n",
    "| longitude         | FLOAT   | Longitude                                                                          |   |\n",
    "| dockcount         | INTEGER | Number of total docks at station                                                   |   |\n",
    "| landmark          | STRING  | City (San Francisco, Redwood City, Palo Alto, Mountain View, San Jose)             |   |\n",
    "| installation_date | DATE    | Original date that station was installed. If station was moved, it is noted below. |   |"
   ]
  },
  {
   "cell_type": "code",
   "execution_count": 8,
   "metadata": {},
   "outputs": [],
   "source": [
    "# import necessary libraries\n",
    "import pandas as pd\n",
    "import matplotlib.pyplot as plt\n",
    "%matplotlib inline"
   ]
  },
  {
   "cell_type": "markdown",
   "metadata": {},
   "source": [
    "## Question 1: What are the 5 most popular trips that you would call \"commuter trips\"?"
   ]
  },
  {
   "cell_type": "markdown",
   "metadata": {},
   "source": [
    "First, I'll start broadly with the 5 most popular trips in the dataset and then dive into what commuter trips can look like. Initially when writing this query, I utilized the start_station_name and end_station_name columns located in bikeshare_trips. However, I found that these columns contain different spellings or phrasings of the station name, which may result incorrect groupings. "
   ]
  },
  {
   "cell_type": "markdown",
   "metadata": {},
   "source": [
    "For example, there are 74 distinct stations in the system, but a distinct count of the start_station_names in the bikeshare_trips table shows 84."
   ]
  },
  {
   "cell_type": "code",
   "execution_count": 13,
   "metadata": {},
   "outputs": [
    {
     "name": "stdout",
     "output_type": "stream",
     "text": [
      "Waiting on bqjob_r65f1b10ce1d6dc24_00000168c65d8e24_1 ... (0s) Current status: DONE   \n",
      "+-----+\n",
      "| f0_ |\n",
      "+-----+\n",
      "|  84 |\n",
      "+-----+\n"
     ]
    }
   ],
   "source": [
    "! bq query --use_legacy_sql=false 'SELECT COUNT (DISTINCT start_station_name) FROM `bigquery-public-data.san_francisco.bikeshare_trips`'"
   ]
  },
  {
   "cell_type": "markdown",
   "metadata": {},
   "source": [
    "Thus, I found that it was more accurate to go by station_ids and join against the bikeshare_stations table twice to get the correct station name that way."
   ]
  },
  {
   "cell_type": "code",
   "execution_count": 1,
   "metadata": {},
   "outputs": [
    {
     "name": "stdout",
     "output_type": "stream",
     "text": [
      "Waiting on bqjob_r7324b412c84a0b87_00000168c530e561_1 ... (1s) Current status: DONE   \n",
      "+------------------+-----------------------------------------+----------------+--------------------------------------+-------+\n",
      "| start_station_id |           start_station_name            | end_station_id |           end_station_name           | count |\n",
      "+------------------+-----------------------------------------+----------------+--------------------------------------+-------+\n",
      "|               50 | Harry Bridges Plaza (Ferry Building)    |             60 | Embarcadero at Sansome               |  9150 |\n",
      "|               69 | San Francisco Caltrain 2 (330 Townsend) |             65 | Townsend at 7th                      |  8508 |\n",
      "|               61 | 2nd at Townsend                         |             50 | Harry Bridges Plaza (Ferry Building) |  7620 |\n",
      "|               50 | Harry Bridges Plaza (Ferry Building)    |             61 | 2nd at Townsend                      |  6888 |\n",
      "|               60 | Embarcadero at Sansome                  |             74 | Steuart at Market                    |  6874 |\n",
      "+------------------+-----------------------------------------+----------------+--------------------------------------+-------+\n"
     ]
    }
   ],
   "source": [
    "! bq query --use_legacy_sql=false 'SELECT start_station_id, a.name AS start_station_name, end_station_id, b.name AS end_station_name, COUNT(trip_id) AS count FROM `bigquery-public-data.san_francisco.bikeshare_trips` INNER JOIN `bigquery-public-data.san_francisco.bikeshare_stations` AS a  ON `bigquery-public-data.san_francisco.bikeshare_trips`.start_station_id = a.station_id INNER JOIN `bigquery-public-data.san_francisco.bikeshare_stations` AS b ON `bigquery-public-data.san_francisco.bikeshare_trips`.end_station_id = b.station_id GROUP BY start_station_id, end_station_id, a.name, b.name ORDER BY count DESC LIMIT 5'"
   ]
  },
  {
   "cell_type": "markdown",
   "metadata": {},
   "source": [
    "Overall, the most popular trip routes are:\n",
    "\n",
    "1. Harry Bridges Plaza (Ferry Building) to Embarcadero at Sansome\n",
    "2. San Francisco Caltrain 2 (330 Townsend) to Townsend at 7th\n",
    "3. 2nd at Townsend to Harry Bridges Plaza (Ferry Building)\n",
    "4. Harry Bridges Plaza (Ferry Building) to 2nd at Townsend\n",
    "5. Embarcadero at Sansome to Steuart at Market"
   ]
  },
  {
   "cell_type": "markdown",
   "metadata": {},
   "source": [
    "However, to get to commuter trips, we must consider what type of data can help us distinguish users that are commuters. \n",
    "\n",
    "* Commuters are Bay Area local residents\n",
    "    * We may be able to distinguish these users from those who are from out of town (visitors, tourists, etc.) the zip code column in bikeshare_trips\n",
    "    * We will use Bay Area zip code data from https://catalog.data.gov/dataset/bay-area-zip-codes.\n",
    "* There are typically two commuting periods: morning and evening during weekdays\n",
    "    * We should specifically focus on these two time periods"
   ]
  },
  {
   "cell_type": "code",
   "execution_count": 36,
   "metadata": {},
   "outputs": [
    {
     "data": {
      "text/html": [
       "<div>\n",
       "<style scoped>\n",
       "    .dataframe tbody tr th:only-of-type {\n",
       "        vertical-align: middle;\n",
       "    }\n",
       "\n",
       "    .dataframe tbody tr th {\n",
       "        vertical-align: top;\n",
       "    }\n",
       "\n",
       "    .dataframe thead th {\n",
       "        text-align: right;\n",
       "    }\n",
       "</style>\n",
       "<table border=\"1\" class=\"dataframe\">\n",
       "  <thead>\n",
       "    <tr style=\"text-align: right;\">\n",
       "      <th></th>\n",
       "      <th>PO_NAME</th>\n",
       "      <th>the_geom</th>\n",
       "      <th>ZIP</th>\n",
       "      <th>STATE</th>\n",
       "      <th>Area__</th>\n",
       "      <th>Length__</th>\n",
       "    </tr>\n",
       "  </thead>\n",
       "  <tbody>\n",
       "    <tr>\n",
       "      <th>0</th>\n",
       "      <td>NAPA</td>\n",
       "      <td>MULTIPOLYGON (((-122.10329200180091 38.5132829...</td>\n",
       "      <td>94558</td>\n",
       "      <td>CA</td>\n",
       "      <td>1.231326e+10</td>\n",
       "      <td>995176.2253</td>\n",
       "    </tr>\n",
       "    <tr>\n",
       "      <th>1</th>\n",
       "      <td>FAIRFIELD</td>\n",
       "      <td>MULTIPOLYGON (((-121.947475002335 38.301511000...</td>\n",
       "      <td>94533</td>\n",
       "      <td>CA</td>\n",
       "      <td>9.917861e+08</td>\n",
       "      <td>200772.5566</td>\n",
       "    </tr>\n",
       "    <tr>\n",
       "      <th>2</th>\n",
       "      <td>DIXON</td>\n",
       "      <td>MULTIPOLYGON (((-121.65335500334429 38.3133870...</td>\n",
       "      <td>95620</td>\n",
       "      <td>CA</td>\n",
       "      <td>7.236950e+09</td>\n",
       "      <td>441860.2014</td>\n",
       "    </tr>\n",
       "    <tr>\n",
       "      <th>3</th>\n",
       "      <td>SONOMA</td>\n",
       "      <td>MULTIPOLYGON (((-122.406843003057 38.155681999...</td>\n",
       "      <td>95476</td>\n",
       "      <td>CA</td>\n",
       "      <td>3.001414e+09</td>\n",
       "      <td>311318.5463</td>\n",
       "    </tr>\n",
       "    <tr>\n",
       "      <th>4</th>\n",
       "      <td>NAPA</td>\n",
       "      <td>MULTIPOLYGON (((-122.29368500225117 38.1552379...</td>\n",
       "      <td>94559</td>\n",
       "      <td>CA</td>\n",
       "      <td>1.194302e+09</td>\n",
       "      <td>359104.6466</td>\n",
       "    </tr>\n",
       "  </tbody>\n",
       "</table>\n",
       "</div>"
      ],
      "text/plain": [
       "     PO_NAME                                           the_geom    ZIP STATE  \\\n",
       "0       NAPA  MULTIPOLYGON (((-122.10329200180091 38.5132829...  94558    CA   \n",
       "1  FAIRFIELD  MULTIPOLYGON (((-121.947475002335 38.301511000...  94533    CA   \n",
       "2      DIXON  MULTIPOLYGON (((-121.65335500334429 38.3133870...  95620    CA   \n",
       "3     SONOMA  MULTIPOLYGON (((-122.406843003057 38.155681999...  95476    CA   \n",
       "4       NAPA  MULTIPOLYGON (((-122.29368500225117 38.1552379...  94559    CA   \n",
       "\n",
       "         Area__     Length__  \n",
       "0  1.231326e+10  995176.2253  \n",
       "1  9.917861e+08  200772.5566  \n",
       "2  7.236950e+09  441860.2014  \n",
       "3  3.001414e+09  311318.5463  \n",
       "4  1.194302e+09  359104.6466  "
      ]
     },
     "execution_count": 36,
     "metadata": {},
     "output_type": "execute_result"
    }
   ],
   "source": [
    "# csv downloaded from website above\n",
    "ba_zip = pd.read_csv('bayarea_zipcodes.csv')\n",
    "ba_zip.head()"
   ]
  },
  {
   "cell_type": "code",
   "execution_count": 37,
   "metadata": {},
   "outputs": [],
   "source": [
    "# get the zip column into a list for SQL query\n",
    "zips = ba_zip['ZIP'].tolist()\n",
    "# convert zips to strings because zip_code is varchar in bikeshare_trips\n",
    "convert_zips = [str(z) for z in zips]"
   ]
  },
  {
   "cell_type": "code",
   "execution_count": 20,
   "metadata": {},
   "outputs": [
    {
     "name": "stdout",
     "output_type": "stream",
     "text": [
      "Waiting on bqjob_r6834f92b320f9023_00000168c665a9f4_1 ... (0s) Current status: DONE   \n",
      "+--------+\n",
      "| count  |\n",
      "+--------+\n",
      "| 771244 |\n",
      "+--------+\n"
     ]
    }
   ],
   "source": [
    "! bq query --use_legacy_sql=false 'SELECT COUNT(*) AS count FROM `bigquery-public-data.san_francisco.bikeshare_trips` WHERE LENGTH(zip_code) = 5 AND zip_code IN (\"94558\",\"94533\",\"95620\",\"95476\",\"94559\",\"94954\",\"94571\",\"94535\",\"94503\",\"94949\",\"94945\",\"94512\",\"94591\",\"94510\",\"94592\",\"94589\",\"94947\",\"94590\",\"94946\",\"94561\",\"94525\",\"94569\",\"94585\",\"94103\",\"94565\",\"94903\",\"94520\",\"94572\",\"94553\",\"94547\",\"94963\",\"94938\",\"94502\",\"94509\",\"94960\",\"94513\",\"94109\",\"94521\",\"94930\",\"94973\",\"94933\",\"94598\",\"94564\",\"94801\",\"94519\",\"94806\",\"94901\",\"94531\",\"94803\",\"94601\",\"94523\",\"94518\",\"94904\",\"94115\",\"94549\",\"94517\",\"94805\",\"94804\",\"94939\",\"94964\",\"94530\",\"94925\",\"94596\",\"94708\",\"94105\",\"94941\",\"94563\",\"94720\",\"94707\",\"94514\",\"94970\",\"94706\",\"94710\",\"94104\",\"94595\",\"94709\",\"94703\",\"94704\",\"94507\",\"94702\",\"94965\",\"94556\",\"94920\",\"94118\",\"94705\",\"94611\",\"94618\",\"94609\",\"94550\",\"94608\",\"94528\",\"94526\",\"94506\",\"94130\",\"94607\",\"94123\",\"94610\",\"94583\",\"94602\",\"94612\",\"94546\",\"94133\",\"94129\",\"94606\",\"94111\",\"94619\",\"94121\",\"94102\",\"94552\",\"94501\",\"94108\",\"94605\",\"94613\",\"94117\",\"94122\",\"94621\",\"94114\",\"94107\",\"94110\",\"94588\",\"94131\",\"94603\",\"94116\",\"94124\",\"94127\",\"94577\",\"94132\",\"94112\",\"94134\",\"94568\",\"94578\",\"94015\",\"94005\",\"94014\",\"94579\",\"94580\",\"94541\",\"94566\",\"94542\",\"94544\",\"94044\",\"94545\",\"94586\",\"94080\",\"94587\",\"94066\",\"94128\",\"94401\",\"94019\",\"94030\",\"94555\",\"94038\",\"94010\",\"94536\",\"94539\",\"94402\",\"94404\",\"94403\",\"94538\",\"94560\",\"94065\",\"94063\",\"94027\",\"94002\",\"94070\",\"95134\",\"95002\",\"94062\",\"94089\",\"94301\",\"94025\",\"94303\",\"95035\",\"95140\",\"94061\",\"94043\",\"94304\",\"94305\",\"94035\",\"94306\",\"94028\",\"94040\",\"94022\",\"94085\",\"94086\",\"94024\",\"94087\")'"
   ]
  },
  {
   "cell_type": "markdown",
   "metadata": {},
   "source": [
    "Documentation on the data noted that zip_code column data were not reliable since users enter it at the station. In exploring the data, I did find that there were many rows with erroneous data such as strings less than 5 digits or missing values. However, the query above shows that 78% of the rows did have proper Bay Area zip codes, so these trips are more likely to be commuter trips. Next, we examine the two commuting periods: morning and evening. For this analysis, we consider morning as 5:00 to 10:00 AM and evening as 3:00 to 8:00 PM."
   ]
  },
  {
   "cell_type": "code",
   "execution_count": 31,
   "metadata": {},
   "outputs": [
    {
     "name": "stdout",
     "output_type": "stream",
     "text": [
      "Waiting on bqjob_r372e3d3691cdcde4_00000168c70bd099_1 ... (0s) Current status: DONE   \n",
      "+------------------+------------------------------------------+----------------+-----------------------------------------------+-------+\n",
      "| start_station_id |            start_station_name            | end_station_id |               end_station_name                | count |\n",
      "+------------------+------------------------------------------+----------------+-----------------------------------------------+-------+\n",
      "|               50 | Harry Bridges Plaza (Ferry Building)     |             61 | 2nd at Townsend                               |  4341 |\n",
      "|               74 | Steuart at Market                        |             61 | 2nd at Townsend                               |  3692 |\n",
      "|               70 | San Francisco Caltrain (Townsend at 4th) |             55 | Temporary Transbay Terminal (Howard at Beale) |  3050 |\n",
      "|               77 | Market at Sansome                        |             64 | 2nd at South Park                             |  2845 |\n",
      "|               50 | Harry Bridges Plaza (Ferry Building)     |             60 | Embarcadero at Sansome                        |  2794 |\n",
      "+------------------+------------------------------------------+----------------+-----------------------------------------------+-------+\n"
     ]
    }
   ],
   "source": [
    "# morning\n",
    "! bq query --use_legacy_sql=false 'SELECT start_station_id, a.name AS start_station_name, end_station_id, b.name AS end_station_name, COUNT(trip_id) AS count FROM `bigquery-public-data.san_francisco.bikeshare_trips` INNER JOIN `bigquery-public-data.san_francisco.bikeshare_stations` AS a  ON `bigquery-public-data.san_francisco.bikeshare_trips`.start_station_id = a.station_id INNER JOIN `bigquery-public-data.san_francisco.bikeshare_stations` AS b ON `bigquery-public-data.san_francisco.bikeshare_trips`.end_station_id = b.station_id WHERE LENGTH(zip_code) = 5 AND zip_code IN (\"94558\",\"94533\",\"95620\",\"95476\",\"94559\",\"94954\",\"94571\",\"94535\",\"94503\",\"94949\",\"94945\",\"94512\",\"94591\",\"94510\",\"94592\",\"94589\",\"94947\",\"94590\",\"94946\",\"94561\",\"94525\",\"94569\",\"94585\",\"94103\",\"94565\",\"94903\",\"94520\",\"94572\",\"94553\",\"94547\",\"94963\",\"94938\",\"94502\",\"94509\",\"94960\",\"94513\",\"94109\",\"94521\",\"94930\",\"94973\",\"94933\",\"94598\",\"94564\",\"94801\",\"94519\",\"94806\",\"94901\",\"94531\",\"94803\",\"94601\",\"94523\",\"94518\",\"94904\",\"94115\",\"94549\",\"94517\",\"94805\",\"94804\",\"94939\",\"94964\",\"94530\",\"94925\",\"94596\",\"94708\",\"94105\",\"94941\",\"94563\",\"94720\",\"94707\",\"94514\",\"94970\",\"94706\",\"94710\",\"94104\",\"94595\",\"94709\",\"94703\",\"94704\",\"94507\",\"94702\",\"94965\",\"94556\",\"94920\",\"94118\",\"94705\",\"94611\",\"94618\",\"94609\",\"94550\",\"94608\",\"94528\",\"94526\",\"94506\",\"94130\",\"94607\",\"94123\",\"94610\",\"94583\",\"94602\",\"94612\",\"94546\",\"94133\",\"94129\",\"94606\",\"94111\",\"94619\",\"94121\",\"94102\",\"94552\",\"94501\",\"94108\",\"94605\",\"94613\",\"94117\",\"94122\",\"94621\",\"94114\",\"94107\",\"94110\",\"94588\",\"94131\",\"94603\",\"94116\",\"94124\",\"94127\",\"94577\",\"94132\",\"94112\",\"94134\",\"94568\",\"94578\",\"94015\",\"94005\",\"94014\",\"94579\",\"94580\",\"94541\",\"94566\",\"94542\",\"94544\",\"94044\",\"94545\",\"94586\",\"94080\",\"94587\",\"94066\",\"94128\",\"94401\",\"94019\",\"94030\",\"94555\",\"94038\",\"94010\",\"94536\",\"94539\",\"94402\",\"94404\",\"94403\",\"94538\",\"94560\",\"94065\",\"94063\",\"94027\",\"94002\",\"94070\",\"95134\",\"95002\",\"94062\",\"94089\",\"94301\",\"94025\",\"94303\",\"95035\",\"95140\",\"94061\",\"94043\",\"94304\",\"94305\",\"94035\",\"94306\",\"94028\",\"94040\",\"94022\",\"94085\",\"94086\",\"94024\",\"94087\") AND CAST(start_date AS time) BETWEEN \"05:00:00\" AND \"9:59:00\" AND EXTRACT(DAYOFWEEK FROM start_date) <= 6 GROUP BY start_station_id, end_station_id, a.name, b.name ORDER BY count DESC LIMIT 5'"
   ]
  },
  {
   "cell_type": "code",
   "execution_count": 32,
   "metadata": {},
   "outputs": [
    {
     "name": "stdout",
     "output_type": "stream",
     "text": [
      "Waiting on bqjob_r2a90ec688a09d1db_00000168c70c4871_1 ... (0s) Current status: DONE   \n",
      "+------------------+-----------------------------------------------+----------------+------------------------------------------+-------+\n",
      "| start_station_id |              start_station_name               | end_station_id |             end_station_name             | count |\n",
      "+------------------+-----------------------------------------------+----------------+------------------------------------------+-------+\n",
      "|               61 | 2nd at Townsend                               |             50 | Harry Bridges Plaza (Ferry Building)     |  4487 |\n",
      "|               60 | Embarcadero at Sansome                        |             74 | Steuart at Market                        |  3826 |\n",
      "|               64 | 2nd at South Park                             |             77 | Market at Sansome                        |  3641 |\n",
      "|               55 | Temporary Transbay Terminal (Howard at Beale) |             70 | San Francisco Caltrain (Townsend at 4th) |  3421 |\n",
      "|               65 | Townsend at 7th                               |             69 | San Francisco Caltrain 2 (330 Townsend)  |  3167 |\n",
      "+------------------+-----------------------------------------------+----------------+------------------------------------------+-------+\n"
     ]
    }
   ],
   "source": [
    "# evening\n",
    "! bq query --use_legacy_sql=false 'SELECT start_station_id, a.name AS start_station_name, end_station_id, b.name AS end_station_name, COUNT(trip_id) AS count FROM `bigquery-public-data.san_francisco.bikeshare_trips` INNER JOIN `bigquery-public-data.san_francisco.bikeshare_stations` AS a  ON `bigquery-public-data.san_francisco.bikeshare_trips`.start_station_id = a.station_id INNER JOIN `bigquery-public-data.san_francisco.bikeshare_stations` AS b ON `bigquery-public-data.san_francisco.bikeshare_trips`.end_station_id = b.station_id WHERE LENGTH(zip_code) = 5 AND zip_code IN (\"94558\",\"94533\",\"95620\",\"95476\",\"94559\",\"94954\",\"94571\",\"94535\",\"94503\",\"94949\",\"94945\",\"94512\",\"94591\",\"94510\",\"94592\",\"94589\",\"94947\",\"94590\",\"94946\",\"94561\",\"94525\",\"94569\",\"94585\",\"94103\",\"94565\",\"94903\",\"94520\",\"94572\",\"94553\",\"94547\",\"94963\",\"94938\",\"94502\",\"94509\",\"94960\",\"94513\",\"94109\",\"94521\",\"94930\",\"94973\",\"94933\",\"94598\",\"94564\",\"94801\",\"94519\",\"94806\",\"94901\",\"94531\",\"94803\",\"94601\",\"94523\",\"94518\",\"94904\",\"94115\",\"94549\",\"94517\",\"94805\",\"94804\",\"94939\",\"94964\",\"94530\",\"94925\",\"94596\",\"94708\",\"94105\",\"94941\",\"94563\",\"94720\",\"94707\",\"94514\",\"94970\",\"94706\",\"94710\",\"94104\",\"94595\",\"94709\",\"94703\",\"94704\",\"94507\",\"94702\",\"94965\",\"94556\",\"94920\",\"94118\",\"94705\",\"94611\",\"94618\",\"94609\",\"94550\",\"94608\",\"94528\",\"94526\",\"94506\",\"94130\",\"94607\",\"94123\",\"94610\",\"94583\",\"94602\",\"94612\",\"94546\",\"94133\",\"94129\",\"94606\",\"94111\",\"94619\",\"94121\",\"94102\",\"94552\",\"94501\",\"94108\",\"94605\",\"94613\",\"94117\",\"94122\",\"94621\",\"94114\",\"94107\",\"94110\",\"94588\",\"94131\",\"94603\",\"94116\",\"94124\",\"94127\",\"94577\",\"94132\",\"94112\",\"94134\",\"94568\",\"94578\",\"94015\",\"94005\",\"94014\",\"94579\",\"94580\",\"94541\",\"94566\",\"94542\",\"94544\",\"94044\",\"94545\",\"94586\",\"94080\",\"94587\",\"94066\",\"94128\",\"94401\",\"94019\",\"94030\",\"94555\",\"94038\",\"94010\",\"94536\",\"94539\",\"94402\",\"94404\",\"94403\",\"94538\",\"94560\",\"94065\",\"94063\",\"94027\",\"94002\",\"94070\",\"95134\",\"95002\",\"94062\",\"94089\",\"94301\",\"94025\",\"94303\",\"95035\",\"95140\",\"94061\",\"94043\",\"94304\",\"94305\",\"94035\",\"94306\",\"94028\",\"94040\",\"94022\",\"94085\",\"94086\",\"94024\",\"94087\") AND CAST(start_date AS time) BETWEEN \"15:00:00\" AND \"19:59:00\" AND EXTRACT(DAYOFWEEK FROM start_date) <= 6 GROUP BY start_station_id, end_station_id, a.name, b.name ORDER BY count DESC LIMIT 5'"
   ]
  },
  {
   "cell_type": "markdown",
   "metadata": {},
   "source": [
    "After filtering for attributes that could make trips considered \"commuter\", we arrive at the following results:\n",
    "\n",
    "* **5 Most Popular Morning Commute Trips:**\n",
    "    * Harry Bridges Plaza (Ferry Building) to 2nd at Townsend\n",
    "    * Steuart at Market to 2nd at Townsend\n",
    "    * San Francisco Caltrain (Townsend at 4th) to Temporary Transbay Terminal (Howard at Beale)\n",
    "    * Market at Sansome to 2nd at South Park\n",
    "    * Harry Bridges Plaza (Ferry Building) to Embarcadero at Sansome\n",
    "\n",
    "\n",
    "* **5 Most Popular Evening Commute Trips:**\n",
    "    * 2nd at Townsend to Harry Bridges Plaza (Ferry Building)\n",
    "    * Embarcadero at Sansome to Steuart at Market\n",
    "    * 2nd at South Park to Market at Sansome\n",
    "    * Temporary Transbay Terminal (Howard at Beale) to San Francisco Caltrain (Townsend at 4th)\n",
    "    * Townsend at 7th to San Francisco Caltrain 2 (330 Townsend)\n",
    "\n",
    "We notice that the top trips for the morning and evening commutes are actually the reverse of each other. There are slight differences between these final results and the initial top 5 most popular trips we saw for all the trips, but one thing to note is that they are all San Francisco stations. The top trips for the morning and evening commutes feature more of start and end stations at local transportation hubs such as Caltrain and the Temporary Transbay Terminal. \n",
    "\n",
    "Given the high potential for demand during these two commuting periods, we should examine activity at the top stations more closely. We'll be looking at this broadly, without filtering for Bay Area zip codes, because we want to monitor overall activity.\n",
    "\n",
    "For the morning commute, we observe that although the San Francisco Caltrain (70) has the highest number of average trips per day, it has the lowest dockcount of these top morning commute stations. Surprisingly, the Market at Sansome (77) station has an a much lower average than the other 3 stations despite have the highest dockcount. "
   ]
  },
  {
   "cell_type": "code",
   "execution_count": 4,
   "metadata": {},
   "outputs": [
    {
     "name": "stdout",
     "output_type": "stream",
     "text": [
      "Waiting on bqjob_r543ee526cc6d1f2d_00000168d03527d7_1 ... (1s) Current status: DONE   \n",
      "+------------+------------------------------------------+-----------+--------------------+\n",
      "| station_id |                   name                   | dockcount | avg_trips_per_day  |\n",
      "+------------+------------------------------------------+-----------+--------------------+\n",
      "|         70 | San Francisco Caltrain (Townsend at 4th) |        19 |  48.45952109464086 |\n",
      "|         77 | Market at Sansome                        |        27 |  9.872289156626504 |\n",
      "|         50 | Harry Bridges Plaza (Ferry Building)     |        23 |  24.29887640449438 |\n",
      "|         74 | Steuart at Market                        |        23 | 18.651497005988027 |\n",
      "+------------+------------------------------------------+-----------+--------------------+\n"
     ]
    }
   ],
   "source": [
    "! bq query --use_legacy_sql=false 'SELECT a.station_id, a.name, a.dockcount, AVG(count) AS avg_trips_per_day FROM (SELECT station_id, name, dockcount, EXTRACT(DATE FROM start_date), COUNT(trip_id) AS count FROM `bigquery-public-data.san_francisco.bikeshare_stations` INNER JOIN `bigquery-public-data.san_francisco.bikeshare_trips` ON `bigquery-public-data.san_francisco.bikeshare_stations`.station_id = `bigquery-public-data.san_francisco.bikeshare_trips`.start_station_id WHERE station_id IN (50, 70, 74, 77) AND EXTRACT(DAYOFWEEK FROM start_date) <= 6 AND CAST(start_date AS time) BETWEEN \"05:00:00\" AND \"9:59:00\" GROUP BY station_id, name, dockcount, EXTRACT(DATE FROM start_date)) AS a GROUP BY a.station_id, a.name, a.dockcount'"
   ]
  },
  {
   "cell_type": "markdown",
   "metadata": {},
   "source": [
    "For the evening commute, we observe relatively similar averages for each station within the range of 13-19 average trips per day in these peak hours. However, three of them only have 15 docks, which may have an impact on bike availability during evening hours. "
   ]
  },
  {
   "cell_type": "code",
   "execution_count": 12,
   "metadata": {},
   "outputs": [
    {
     "name": "stdout",
     "output_type": "stream",
     "text": [
      "Waiting on bqjob_r71b261fb86c6af50_00000168d0468d46_1 ... (1s) Current status: DONE   \n",
      "+------------+-----------------------------------------------+-----------+--------------------+\n",
      "| station_id |                     name                      | dockcount | avg_trips_per_day  |\n",
      "+------------+-----------------------------------------------+-----------+--------------------+\n",
      "|         55 | Temporary Transbay Terminal (Howard at Beale) |        23 | 13.939799331103671 |\n",
      "|         60 | Embarcadero at Sansome                        |        15 | 18.811099252934913 |\n",
      "|         61 | 2nd at Townsend                               |        27 | 18.491397849462352 |\n",
      "|         65 | Townsend at 7th                               |        15 |  19.86105032822756 |\n",
      "|         64 | 2nd at South Park                             |        15 | 15.019165727170213 |\n",
      "+------------+-----------------------------------------------+-----------+--------------------+\n"
     ]
    }
   ],
   "source": [
    "! bq query --use_legacy_sql=false 'SELECT a.station_id, a.name, a.dockcount, AVG(count) AS avg_trips_per_day FROM (SELECT station_id, name, dockcount, EXTRACT(DATE FROM start_date), COUNT(trip_id) AS count FROM `bigquery-public-data.san_francisco.bikeshare_stations` INNER JOIN `bigquery-public-data.san_francisco.bikeshare_trips` ON `bigquery-public-data.san_francisco.bikeshare_stations`.station_id = `bigquery-public-data.san_francisco.bikeshare_trips`.start_station_id WHERE station_id IN (61, 60, 64, 55, 65) AND EXTRACT(DAYOFWEEK FROM start_date) <= 6 AND CAST(start_date AS time) BETWEEN \"15:00:00\" AND \"19:59:00\" GROUP BY station_id, name, dockcount, EXTRACT(DATE FROM start_date)) AS a GROUP BY a.station_id, a.name, a.dockcount'"
   ]
  },
  {
   "cell_type": "markdown",
   "metadata": {},
   "source": [
    "Next, we'll examine bike availability during these commuting periods, hour by hour. "
   ]
  },
  {
   "cell_type": "code",
   "execution_count": 6,
   "metadata": {},
   "outputs": [
    {
     "name": "stdout",
     "output_type": "stream",
     "text": [
      "Waiting on bqjob_r1b7a249543fb835d_00000168d0424c0f_1 ... (8s) Current status: DONE   "
     ]
    }
   ],
   "source": [
    "! bq query --use_legacy_sql=false --format=csv 'SELECT station_id, TIME_TRUNC(CAST(time as time), HOUR) hour, AVG(bikes_available) AS avg_bikes_avail  FROM `bigquery-public-data.san_francisco.bikeshare_status` WHERE CAST(time AS time) BETWEEN \"05:00:00\" AND \"09:59:00\" AND EXTRACT(DAYOFWEEK FROM time) <= 6 AND station_id IN (50, 70, 74, 77) GROUP BY station_id, hour ORDER BY station_id, hour' > morning_hours.csv"
   ]
  },
  {
   "cell_type": "code",
   "execution_count": 54,
   "metadata": {},
   "outputs": [],
   "source": [
    "morn_hours = pd.read_csv('morning_hours.csv')\n",
    "#morn_hours.head()"
   ]
  },
  {
   "cell_type": "markdown",
   "metadata": {},
   "source": [
    "From the chart below, we can see that bike availability tends to decrease in the hours of 8:00 and 9:00 AM, which is closer to the start of the work day. Given that some of these stations are near transportation hubs, this also could be because many users utilize other modes of transportation (Caltrain, Muni, BART, etc.) at the start of the commute and they utilize Ford GoBike for their last leg of the commute, which is closer to 8:00 - 10:00 AM. "
   ]
  },
  {
   "cell_type": "code",
   "execution_count": 16,
   "metadata": {},
   "outputs": [
    {
     "data": {
      "text/plain": [
       "Text(0.5,1,'Average Bikes Available During Morning Commute for Top Stations')"
      ]
     },
     "execution_count": 16,
     "metadata": {},
     "output_type": "execute_result"
    },
    {
     "data": {
      "image/png": "[encoded data removed]",
      "text/plain": [
       "<Figure size 432x288 with 1 Axes>"
      ]
     },
     "metadata": {},
     "output_type": "display_data"
    }
   ],
   "source": [
    "morn_hours.pivot(index='hour', columns='station_id', values='avg_bikes_avail').plot(kind='bar')\n",
    "plt.title(\"Average Bikes Available During Morning Commute for Top Stations\")"
   ]
  },
  {
   "cell_type": "code",
   "execution_count": 11,
   "metadata": {},
   "outputs": [
    {
     "name": "stdout",
     "output_type": "stream",
     "text": [
      "Waiting on bqjob_ra69811a63181e46_00000168d04659c4_1 ... (7s) Current status: DONE   "
     ]
    }
   ],
   "source": [
    "! bq query --use_legacy_sql=false --format=csv 'SELECT station_id, TIME_TRUNC(CAST(time as time), HOUR) hour, AVG(bikes_available) AS avg_bikes_avail  FROM `bigquery-public-data.san_francisco.bikeshare_status` WHERE CAST(time AS time) BETWEEN \"15:00:00\" AND \"19:59:00\" AND EXTRACT(DAYOFWEEK FROM time) <= 6 AND station_id IN (61, 60, 64, 55, 65) GROUP BY station_id, hour ORDER BY station_id, hour' > evening_hours.csv"
   ]
  },
  {
   "cell_type": "code",
   "execution_count": 55,
   "metadata": {},
   "outputs": [],
   "source": [
    "eve_hours = pd.read_csv('evening_hours.csv')\n",
    "#eve_hours.head()"
   ]
  },
  {
   "cell_type": "markdown",
   "metadata": {},
   "source": [
    "For the evening commute, the Temporary Transbay Terminal (55) station initially starts out with low availability at the start of the commuting period and the bike availability appears to increase by 4:00 and 5:00 PM. The other stations maintain about 50% of their dock capacity in the same two hours with some slight decreases in the latter part of the evening commute. "
   ]
  },
  {
   "cell_type": "code",
   "execution_count": 17,
   "metadata": {},
   "outputs": [
    {
     "data": {
      "text/plain": [
       "Text(0.5,1,'Average Bikes Available During Evening Commute for Top Stations')"
      ]
     },
     "execution_count": 17,
     "metadata": {},
     "output_type": "execute_result"
    },
    {
     "data": {
      "image/png": "[encoded data removed]",
      "text/plain": [
       "<Figure size 432x288 with 1 Axes>"
      ]
     },
     "metadata": {},
     "output_type": "display_data"
    }
   ],
   "source": [
    "eve_hours.pivot(index='hour', columns='station_id', values='avg_bikes_avail').plot(kind='bar')\n",
    "plt.title(\"Average Bikes Available During Evening Commute for Top Stations\")"
   ]
  },
  {
   "cell_type": "markdown",
   "metadata": {},
   "source": [
    "This hour-by-hour analysis is a first step into analyzing usage at popular commuter stations. Commuters have a greater chance of being Ford GoBike subscribers and with knowledge on the most popular routes, Ford GoBike can more effectively allocate resources to ensure bike availability and user satisfaction during high usage periods. This can also further the goal of increasing ridership."
   ]
  },
  {
   "cell_type": "markdown",
   "metadata": {},
   "source": [
    "## Question 2: What are your recommendations for offers to increase ridership?"
   ]
  },
  {
   "cell_type": "markdown",
   "metadata": {},
   "source": [
    "Currently, Ford GoBike offers the following bikeshare plans: a flat price for a single one-way trip, a day pass that allows unlimited 30-minute rides for 24 hours and an annual membership. The system is available in 5 Bay Area cities: San Francisco, San Jose, Mountain View, Redwood City, and Palo Alto. While San Francisco hosts 50% of the total stations, it accounts for over 90% of the trips. "
   ]
  },
  {
   "cell_type": "code",
   "execution_count": 33,
   "metadata": {},
   "outputs": [
    {
     "name": "stdout",
     "output_type": "stream",
     "text": [
      "Waiting on bqjob_rbbd125dc3cfb197_00000168cc6b092e_1 ... (1s) Current status: DONE   \n",
      "+---------------+---------------+------------+\n",
      "|   landmark    | station_count | trip_count |\n",
      "+---------------+---------------+------------+\n",
      "| San Francisco |            37 |     891223 |\n",
      "| San Jose      |            18 |      52861 |\n",
      "| Mountain View |             7 |      24679 |\n",
      "| Redwood City  |             7 |       4996 |\n",
      "| Palo Alto     |             5 |       9889 |\n",
      "+---------------+---------------+------------+\n"
     ]
    }
   ],
   "source": [
    "! bq query --use_legacy_sql=false 'SELECT landmark, COUNT(DISTINCT station_id) AS station_count, COUNT(trip_id) AS trip_count FROM `bigquery-public-data.san_francisco.bikeshare_stations` INNER JOIN `bigquery-public-data.san_francisco.bikeshare_trips` ON `bigquery-public-data.san_francisco.bikeshare_stations`.station_id = `bigquery-public-data.san_francisco.bikeshare_trips`.start_station_id GROUP BY landmark ORDER BY station_count DESC'"
   ]
  },
  {
   "cell_type": "markdown",
   "metadata": {},
   "source": [
    "When the system first launched in August 2013, 33 stations were installed in San Francisco while 28 stations were installed in other within the same month. Despite being established around the same time period, these stations do not have the same volume of trips as the comparable ones in San Francisco. Although there are many factors that contribute to why Ford GoBike is much more popular in San Francisco (larger population, tourism, more commuters, differences in marketing, etc.), it is worthwhile to consider how we can incentivize users to utilize Ford GoBike in the other cities."
   ]
  },
  {
   "cell_type": "code",
   "execution_count": 4,
   "metadata": {},
   "outputs": [
    {
     "name": "stdout",
     "output_type": "stream",
     "text": [
      "\r",
      "Waiting on bqjob_r1d1aead9f0d1a1c6_00000168cc376163_1 ... (0s) Current status: DONE   "
     ]
    }
   ],
   "source": [
    "! bq query --use_legacy_sql=false --format=csv 'SELECT start_station_id, a.name, a.landmark, a.installation_date, COUNT(*) AS trip_count FROM `bigquery-public-data.san_francisco.bikeshare_trips` INNER JOIN (SELECT station_id, name, landmark, installation_date FROM `bigquery-public-data.san_francisco.bikeshare_stations` WHERE EXTRACT(YEAR FROM installation_date) = 2013 AND EXTRACT(MONTH FROM installation_date) = 8) AS a ON `bigquery-public-data.san_francisco.bikeshare_trips`.start_station_id = a.station_id GROUP BY start_station_id, a.name, a.landmark, a.installation_date ORDER BY trip_count DESC' > earliest_stations.csv"
   ]
  },
  {
   "cell_type": "code",
   "execution_count": 34,
   "metadata": {},
   "outputs": [
    {
     "data": {
      "text/plain": [
       "Text(0.5,0,'Number of Trips')"
      ]
     },
     "execution_count": 34,
     "metadata": {},
     "output_type": "execute_result"
    },
    {
     "data": {
      "image/png": "[encoded data removed]",
      "text/plain": [
       "<Figure size 432x288 with 1 Axes>"
      ]
     },
     "metadata": {},
     "output_type": "display_data"
    },
    {
     "data": {
      "image/png": "[encoded data removed]",
      "text/plain": [
       "<Figure size 432x288 with 1 Axes>"
      ]
     },
     "metadata": {},
     "output_type": "display_data"
    }
   ],
   "source": [
    "# read into pandas\n",
    "early_stations = pd.read_csv('earliest_stations.csv')\n",
    "df = early_stations[['landmark', 'trip_count']]\n",
    "\n",
    "df[df['landmark'] == 'San Francisco'].plot.hist()\n",
    "plt.title('Frequency Count for Early San Francisco Stations By Trips')\n",
    "plt.xlabel('Number of Trips')\n",
    "\n",
    "df[df['landmark'] != 'San Francisco'].plot.hist()\n",
    "plt.title('Frequency Count for Early Non-San Francisco Station By Trips')\n",
    "plt.xlabel('Number of Trips')"
   ]
  },
  {
   "cell_type": "markdown",
   "metadata": {},
   "source": [
    "We also find that there are differences in the trip durations by city. Most strikingly, the average trip duration in Palo Alto is over 60 minutes which is much higher than that of the other cities. We will examine trip duration with grouped intervals in cities besides San Francisco with histograms to get a better sense of the distributions."
   ]
  },
  {
   "cell_type": "code",
   "execution_count": 40,
   "metadata": {},
   "outputs": [
    {
     "name": "stdout",
     "output_type": "stream",
     "text": [
      "Waiting on bqjob_r7ccea2622c5aa060_00000168c7299f78_1 ... (0s) Current status: DONE   \n",
      "+---------------+--------+--------------------+\n",
      "|   landmark    | count  |      avg_trip      |\n",
      "+---------------+--------+--------------------+\n",
      "| San Francisco | 891223 | 15.922197493406236 |\n",
      "| San Jose      |  52861 |  20.85189522206048 |\n",
      "| Mountain View |  24679 |  26.30697354025692 |\n",
      "| Palo Alto     |   9889 | 60.051228637880364 |\n",
      "| Redwood City  |   4996 |  33.81819455564454 |\n",
      "+---------------+--------+--------------------+\n"
     ]
    }
   ],
   "source": [
    "! bq query --use_legacy_sql=false 'SELECT landmark, COUNT(*) AS count, AVG(duration_sec/60) AS avg_trip FROM `bigquery-public-data.san_francisco.bikeshare_stations` INNER JOIN `bigquery-public-data.san_francisco.bikeshare_trips` ON `bigquery-public-data.san_francisco.bikeshare_stations`.station_id = `bigquery-public-data.san_francisco.bikeshare_trips`.start_station_id GROUP BY landmark ORDER BY count DESC'"
   ]
  },
  {
   "cell_type": "code",
   "execution_count": 45,
   "metadata": {},
   "outputs": [
    {
     "name": "stdout",
     "output_type": "stream",
     "text": [
      "Waiting on bqjob_r5fff75d2045b78c3_00000168d080042a_1 ... (1s) Current status: DONE   "
     ]
    }
   ],
   "source": [
    "! bq query --use_legacy_sql=false --format=csv 'SELECT landmark, CASE WHEN duration_sec/60 < 10 THEN \"0-9\" WHEN duration_sec/60 < 20 THEN \"10-19\" WHEN duration_sec/60 < 30 THEN \"20-29\" WHEN duration_sec/60 < 40 THEN \"30-39\" WHEN duration_sec/60 < 50 THEN \"40-49\" WHEN duration_sec/60 < 60 THEN \"50-59\" WHEN duration_sec/60 >= 60 THEN \"60 +\" END AS trip_mins, COUNT(trip_id) AS count FROM `bigquery-public-data.san_francisco.bikeshare_stations` INNER JOIN `bigquery-public-data.san_francisco.bikeshare_trips` ON `bigquery-public-data.san_francisco.bikeshare_stations`.station_id = `bigquery-public-data.san_francisco.bikeshare_trips`.start_station_id GROUP BY landmark, trip_mins ORDER BY landmark, trip_mins' > durations.csv"
   ]
  },
  {
   "cell_type": "markdown",
   "metadata": {},
   "source": [
    "The histograms show that while trips that take less than 10 minutes are the most common in all of the cities, there is more variation in trip duration in Palo Alto especially and it also has a higher portion of trips that last 60 minutes or more."
   ]
  },
  {
   "cell_type": "code",
   "execution_count": 53,
   "metadata": {},
   "outputs": [],
   "source": [
    "durations = pd.read_csv('durations.csv')\n",
    "#durations.head()"
   ]
  },
  {
   "cell_type": "code",
   "execution_count": 52,
   "metadata": {},
   "outputs": [
    {
     "data": {
      "text/plain": [
       "<matplotlib.axes._subplots.AxesSubplot at 0x7f029c6c55f8>"
      ]
     },
     "execution_count": 52,
     "metadata": {},
     "output_type": "execute_result"
    },
    {
     "data": {
      "image/png": "[encoded data removed]",
      "text/plain": [
       "<Figure size 432x288 with 1 Axes>"
      ]
     },
     "metadata": {},
     "output_type": "display_data"
    },
    {
     "data": {
      "image/png": "[encoded data removed]",
      "text/plain": [
       "<Figure size 432x288 with 1 Axes>"
      ]
     },
     "metadata": {},
     "output_type": "display_data"
    },
    {
     "data": {
      "image/png": "[encoded data removed]",
      "text/plain": [
       "<Figure size 432x288 with 1 Axes>"
      ]
     },
     "metadata": {},
     "output_type": "display_data"
    },
    {
     "data": {
      "image/png": "[encoded data removed]",
      "text/plain": [
       "<Figure size 432x288 with 1 Axes>"
      ]
     },
     "metadata": {},
     "output_type": "display_data"
    }
   ],
   "source": [
    "durations[durations['landmark'] == 'Mountain View'].plot(x='trip_mins', kind='bar', title='Frequency Count for Mountain View Trips')\n",
    "\n",
    "durations[durations['landmark'] == 'Palo Alto'].plot(x='trip_mins', kind='bar', title='Frequency Count for Palo Alto Trips')\n",
    "\n",
    "durations[durations['landmark'] == 'Redwood City'].plot(x='trip_mins', kind='bar', title='Frequency Count for Redwood City Trips')\n",
    "\n",
    "durations[durations['landmark'] == 'San Jose'].plot(x='trip_mins', kind='bar', title='Frequency Count for San Jose Trips')"
   ]
  },
  {
   "cell_type": "markdown",
   "metadata": {},
   "source": [
    "Based on this analysis, the following recommendations could serve to increase ridership in cities outside of San Francisco. \n",
    "\n",
    "* Offer different pricing for different cities\n",
    "    * Although there are advantages to having plans for Bay Area as a whole, the data show that there's differential usage throughout the system.\n",
    "        * Customize the single-way ticket prices to individual cities since single-way trips are most likely to end in the same city. In particular, we should reduce prices in cities with less trips such as Redwood City and Palo Alto.\n",
    "        * Offer single city day passes and annual memberships. There may be users who know that they will only utilize Ford GoBike in one city and we can offer users the option of upgrading their plan or paying an small fee if they need to use it in another city. \n",
    "        * Maintain the current options that allow users to utilize their plans in the Bay Area as a whole.\n",
    "        \n",
    "* Set different trip duration limits by city\n",
    "    * Currently, the trip duration limit is 30 minutes with fees incurring every 15 minutes after. As we saw in our analysis, in Palo Alto, trips close to an hour are more common. Given the current demand for bikes in Palo Alto, it's possible to extend trip duration limits without sacrificing resources while potentially fostering higher customer satisfaction.\n",
    "   \n",
    "* Collaborate with other transportation systems such as Caltrain, Muni, BART, AC Transit, and VTA, especially for special events\n",
    "    * We noticed a trend of high usage of Ford GoBike at transportation hubs such as Caltrain or the Temporary Transbay Terminal. It's likely that many subscribers and customers utilize bikes as a \"connector\" with these other modes of transportation to get to where they need to go. Systems like Caltrain and BART having been struggling with increased demand due to the higher amounts of riders, which is especially apparently during special events like Warriors games or Bay to Breakers. Ford GoBike should foster relationships with these systems to increase awareness, which may help with the other systems manage the volume of ridership as well."
   ]
  },
  {
   "cell_type": "markdown",
   "metadata": {},
   "source": [
    "Citations: \n",
    "https://www.fordgobike.com/"
   ]
  }
 ],
 "metadata": {
  "kernelspec": {
   "display_name": "Python 3",
   "language": "python",
   "name": "python3"
  },
  "language_info": {
   "codemirror_mode": {
    "name": "ipython",
    "version": 3
   },
   "file_extension": ".py",
   "mimetype": "text/x-python",
   "name": "python",
   "nbconvert_exporter": "python",
   "pygments_lexer": "ipython3",
   "version": "3.5.2"
  }
 },
 "nbformat": 4,
 "nbformat_minor": 2
}
